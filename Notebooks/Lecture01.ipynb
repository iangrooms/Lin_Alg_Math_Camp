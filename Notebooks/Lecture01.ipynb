{
 "cells": [
  {
   "cell_type": "markdown",
   "metadata": {
    "editable": true,
    "slideshow": {
     "slide_type": "slide"
    },
    "tags": []
   },
   "source": [
    "# Math Camp!\n",
    "## Linear Algebra & Computing"
   ]
  },
  {
   "cell_type": "markdown",
   "metadata": {
    "editable": true,
    "slideshow": {
     "slide_type": "subslide"
    },
    "tags": []
   },
   "source": [
    "Computing:\n",
    "- Use Python in a Jupyter notebook to do a little math and plot the results\n",
    "- The goal is **not** to teach you how to program.\n",
    "\n",
    "Linear Algebra:\n",
    "- Fill gaps from your undergraduate education\n",
    "- Things we will **not** cover because you will cover them in your courses:\n",
    "  - Anything related to infinite dimensional vector spaces\n",
    "  - **Numerical** linear algebra"
   ]
  },
  {
   "cell_type": "markdown",
   "metadata": {
    "editable": true,
    "slideshow": {
     "slide_type": "slide"
    },
    "tags": []
   },
   "source": [
    "# Vectors and Matrices\n",
    "A vector is a list of numbers with a single index; a matrix is a doubly-indexed set of numbers.\n",
    "Examples\n",
    "\\begin{equation}\n",
    "\\vec{v} = \\left(\\begin{array}{c}1\\\\0\\\\-1\\end{array}\\right),\\quad \\mathbf{A} = \\left[\\begin{array}{cc}1&1\\\\0&2\\end{array}\\right]\n",
    "\\end{equation}\n",
    "The above vector $\\vec{v}$ is a 'column' vector with three elements. We say it is $3\\times 1$. The matrix has two rows and two columns, so it is $2\\times 2$. A matrix with $m$ rows and $n$ columns is $m\\times n$. A vector is a special case of a matrix. Here is an example of a $1\\times3$ 'row' vector and a $3\\times 2$ matrix\n",
    "\n",
    "$$\\vec{v} = (1,\\,2,\\,3),\\;\\;\\mathbf{A} = \\left[\\begin{array}{cc}1&1\\\\0&2\\\\-1&-1\\end{array}\\right].$$"
   ]
  },
  {
   "cell_type": "markdown",
   "metadata": {
    "editable": true,
    "slideshow": {
     "slide_type": "subslide"
    },
    "tags": []
   },
   "source": [
    "Indices are used to pick out individual elements of vectors or matrices. For example\n",
    "\n",
    "$$\\left(\\vec{v}\\right)_1 = 1,\\;\\;\\left(\\mathbf{A}\\right)_{3,2} = -1.$$\n",
    "The standard mathematical convention is for the indices of an $m\\times n$ matrix to run from $1$ to $m$ for rows and from $1$ to $n$ for columns. Also if we have a matrix $\\mathbf{A}$ it is common to denote the $i,j$ entry by $a_{ij}$.\n",
    "If we are using specific numbers like $i=2$ and $j=5$ then we might use a comma $a_{2,5}$."
   ]
  },
  {
   "cell_type": "markdown",
   "metadata": {
    "editable": true,
    "slideshow": {
     "slide_type": "slide"
    },
    "tags": []
   },
   "source": [
    "Python has lists and arrays that can act as vectors and matrices, but we will focus on the Numpy packages ndarray object."
   ]
  },
  {
   "cell_type": "code",
   "execution_count": 1,
   "metadata": {
    "editable": true,
    "slideshow": {
     "slide_type": "fragment"
    },
    "tags": []
   },
   "outputs": [
    {
     "name": "stdout",
     "output_type": "stream",
     "text": [
      "(3, 2)\n",
      "[[ 1  1]\n",
      " [ 0  2]\n",
      " [-1 -1]]\n"
     ]
    }
   ],
   "source": [
    "import numpy as np\n",
    "A = np.array([[1,1],[0,2],[-1,-1]]) # Double brackets show that it's a \n",
    "                                    # matrix\n",
    "print(A.shape) # This array is 3 x 2; three rows, two columns\n",
    "print(A)"
   ]
  },
  {
   "cell_type": "code",
   "execution_count": 2,
   "metadata": {
    "editable": true,
    "slideshow": {
     "slide_type": "fragment"
    },
    "tags": []
   },
   "outputs": [
    {
     "data": {
      "text/plain": [
       "2"
      ]
     },
     "execution_count": 2,
     "metadata": {},
     "output_type": "execute_result"
    }
   ],
   "source": [
    "A[1,1] # A particular element is accessed using square brackets\n",
    "       # Notice that this is not A_{1,1}! Indexing starts at 0, so\n",
    "       # this is the (2,2) element of the matrix."
   ]
  },
  {
   "cell_type": "markdown",
   "metadata": {
    "editable": true,
    "slideshow": {
     "slide_type": "fragment"
    },
    "tags": []
   },
   "source": [
    "You can also pick out 'slices' of arrays as follows"
   ]
  },
  {
   "cell_type": "code",
   "execution_count": 3,
   "metadata": {
    "editable": true,
    "slideshow": {
     "slide_type": "fragment"
    },
    "tags": []
   },
   "outputs": [
    {
     "name": "stdout",
     "output_type": "stream",
     "text": [
      "[1 1]\n"
     ]
    }
   ],
   "source": [
    "print(A[0,:]) # First row of the matrix A"
   ]
  },
  {
   "cell_type": "markdown",
   "metadata": {
    "editable": true,
    "slideshow": {
     "slide_type": "slide"
    },
    "tags": []
   },
   "source": [
    "Matrices that are the same size can be added together element-by-element\n",
    "\n",
    "$$\\left[\\begin{array}{cc}1&1\\\\0&2\\\\-1&-1\\end{array}\\right] + \\left[\\begin{array}{cc}0&1\\\\2&3\\\\2&1\\end{array}\\right] = \\left[\\begin{array}{cc}1&2\\\\2&5\\\\1&0\\end{array}\\right].$$\n",
    "\n",
    "You can't add a scalar to a matrix or a vector to a matrix, because the sizes don't match up (a scalar is $1\\times1$). But you can multiply a vector or a matrix by a scalar\n",
    "\n",
    "$$2\\times\\left[\\begin{array}{cc}1&1\\\\0&2\\\\-1&-1\\end{array}\\right] = \\left[\\begin{array}{cc}2&2\\\\0&4\\\\-2&-2\\end{array}\\right].$$"
   ]
  },
  {
   "cell_type": "code",
   "execution_count": 4,
   "metadata": {
    "editable": true,
    "slideshow": {
     "slide_type": "subslide"
    },
    "tags": []
   },
   "outputs": [
    {
     "data": {
      "text/plain": [
       "array([[1, 2],\n",
       "       [2, 5],\n",
       "       [1, 0]])"
      ]
     },
     "execution_count": 4,
     "metadata": {},
     "output_type": "execute_result"
    }
   ],
   "source": [
    "B = np.array([[0,1],[2,3],[2,1]])\n",
    "A + B"
   ]
  },
  {
   "cell_type": "code",
   "execution_count": 5,
   "metadata": {
    "editable": true,
    "slideshow": {
     "slide_type": "fragment"
    },
    "tags": []
   },
   "outputs": [
    {
     "ename": "ValueError",
     "evalue": "operands could not be broadcast together with shapes (3,2) (2,2) ",
     "output_type": "error",
     "traceback": [
      "\u001b[0;31m---------------------------------------------------------------------------\u001b[0m",
      "\u001b[0;31mValueError\u001b[0m                                Traceback (most recent call last)",
      "Cell \u001b[0;32mIn[5], line 2\u001b[0m\n\u001b[1;32m      1\u001b[0m C \u001b[38;5;241m=\u001b[39m np\u001b[38;5;241m.\u001b[39marray([[\u001b[38;5;241m1\u001b[39m,\u001b[38;5;241m1\u001b[39m],[\u001b[38;5;241m2\u001b[39m,\u001b[38;5;241m3\u001b[39m]]) \u001b[38;5;66;03m# A 2x2 matrix\u001b[39;00m\n\u001b[0;32m----> 2\u001b[0m \u001b[43mA\u001b[49m\u001b[38;5;241;43m+\u001b[39;49m\u001b[43mC\u001b[49m\n",
      "\u001b[0;31mValueError\u001b[0m: operands could not be broadcast together with shapes (3,2) (2,2) "
     ]
    }
   ],
   "source": [
    "C = np.array([[1,1],[2,3]]) # A 2x2 matrix\n",
    "A+C # Can't add matrices that are not the same size"
   ]
  },
  {
   "cell_type": "code",
   "execution_count": 6,
   "metadata": {
    "editable": true,
    "slideshow": {
     "slide_type": "subslide"
    },
    "tags": []
   },
   "outputs": [
    {
     "data": {
      "text/plain": [
       "array([[3, 3],\n",
       "       [2, 4],\n",
       "       [1, 1]])"
      ]
     },
     "execution_count": 6,
     "metadata": {},
     "output_type": "execute_result"
    }
   ],
   "source": [
    "A + 2 # Mathematically you can't add a scalar to a matrix, but in\n",
    "      # Numpy this operation is defined so that the scalar is\n",
    "      # added to each element of the matrix"
   ]
  },
  {
   "cell_type": "code",
   "execution_count": 7,
   "metadata": {
    "editable": true,
    "slideshow": {
     "slide_type": "fragment"
    },
    "tags": []
   },
   "outputs": [
    {
     "data": {
      "text/plain": [
       "array([[ 2,  2],\n",
       "       [ 0,  4],\n",
       "       [-2, -2]])"
      ]
     },
     "execution_count": 7,
     "metadata": {},
     "output_type": "execute_result"
    }
   ],
   "source": [
    "2*A # scalar multiplication works as expected"
   ]
  },
  {
   "cell_type": "markdown",
   "metadata": {
    "editable": true,
    "slideshow": {
     "slide_type": "slide"
    },
    "tags": []
   },
   "source": [
    "Matrix multiplication is not defined element-by-element. Instead, here is the definition\n",
    "\n",
    "$$\\left(\\mathbf{A}\\mathbf{B}\\right)_{i,j} = \\sum_{k=1}^pa_{ik}b_{kj}.$$\n",
    "\n",
    "The definition only makes sense when $\\mathbf{A}$ has $p$ columns and $\\mathbf{B}$ has $p$ rows; otherwise, the matrices are 'not conformable' and the product is undefined. So you can't multiply a $2\\times2$ matrix and a $3\\times1$ vector.\n",
    "If $\\mathbf{A}$ is $m\\times p$ and $\\mathbf{B}$ is $p\\times n$ then $\\mathbf{AB}$ is $m\\times n$.\n",
    "\n",
    "In general the order matters, i.e. sometimes $\\mathbf{AB} = \\mathbf{BA}$, but usually not.\n",
    "\n",
    "In Numpy the `*` does not correspond to matrix multiplication. For example"
   ]
  },
  {
   "cell_type": "code",
   "execution_count": 8,
   "metadata": {
    "editable": true,
    "slideshow": {
     "slide_type": "subslide"
    },
    "tags": []
   },
   "outputs": [
    {
     "name": "stdout",
     "output_type": "stream",
     "text": [
      "[[ 0  1]\n",
      " [ 0  6]\n",
      " [-2 -1]]\n"
     ]
    }
   ],
   "source": [
    "print(A*B) # Matrix multiplication is not defined for these 3x2\n",
    "           # matrices, but in Numpy they are multiplied elementwise."
   ]
  },
  {
   "cell_type": "code",
   "execution_count": 9,
   "metadata": {
    "editable": true,
    "slideshow": {
     "slide_type": "fragment"
    },
    "tags": []
   },
   "outputs": [
    {
     "ename": "ValueError",
     "evalue": "shapes (3,2) and (3,2) not aligned: 2 (dim 1) != 3 (dim 0)",
     "output_type": "error",
     "traceback": [
      "\u001b[0;31m---------------------------------------------------------------------------\u001b[0m",
      "\u001b[0;31mValueError\u001b[0m                                Traceback (most recent call last)",
      "Cell \u001b[0;32mIn[9], line 1\u001b[0m\n\u001b[0;32m----> 1\u001b[0m \u001b[43mnp\u001b[49m\u001b[38;5;241;43m.\u001b[39;49m\u001b[43mdot\u001b[49m\u001b[43m(\u001b[49m\u001b[43mA\u001b[49m\u001b[43m,\u001b[49m\u001b[43mB\u001b[49m\u001b[43m)\u001b[49m\n",
      "\u001b[0;31mValueError\u001b[0m: shapes (3,2) and (3,2) not aligned: 2 (dim 1) != 3 (dim 0)"
     ]
    }
   ],
   "source": [
    "np.dot(A,B) # Numpy uses \"dot\" for matrix multiplication. "
   ]
  },
  {
   "cell_type": "code",
   "execution_count": 10,
   "metadata": {
    "editable": true,
    "slideshow": {
     "slide_type": "fragment"
    },
    "tags": []
   },
   "outputs": [
    {
     "name": "stdout",
     "output_type": "stream",
     "text": [
      "[[ 3  4]\n",
      " [ 4  6]\n",
      " [-3 -4]]\n"
     ]
    }
   ],
   "source": [
    "print(np.dot(A,C)) # A is 3x2 and C is 2x2, so the operation works"
   ]
  },
  {
   "cell_type": "code",
   "execution_count": 11,
   "metadata": {
    "editable": true,
    "slideshow": {
     "slide_type": "fragment"
    },
    "tags": []
   },
   "outputs": [
    {
     "name": "stdout",
     "output_type": "stream",
     "text": [
      "[[ 3  4]\n",
      " [ 4  6]\n",
      " [-3 -4]]\n"
     ]
    }
   ],
   "source": [
    "print(A@C) # The @ symbol is a shorter way to do matrix multiplication"
   ]
  },
  {
   "cell_type": "markdown",
   "metadata": {
    "editable": true,
    "slideshow": {
     "slide_type": "slide"
    },
    "tags": []
   },
   "source": [
    "Why does Numpy use the term 'dot'? If two vectors are the same length, we can define the 'dot product' as follows\n",
    "\n",
    "$$\\vec{x}\\cdot\\vec{y} = \\sum_{i=1}^nx_iy_i.$$\n",
    "\n",
    "For example,\n",
    "\n",
    "$$\\vec{x} = \\left(\\begin{array}{c}1\\\\0\\\\-1\\end{array}\\right),\\;\\;\\vec{y} = \\left(\\begin{array}{c}a\\\\b\\\\c\\end{array}\\right),\\;\\;\\vec{x}\\cdot\\vec{y} = a - c.$$"
   ]
  },
  {
   "cell_type": "markdown",
   "metadata": {
    "editable": true,
    "slideshow": {
     "slide_type": "subslide"
    },
    "tags": []
   },
   "source": [
    "Now suppose that we have two matrices $\\mathbf{A}$ and $\\mathbf{B}$ that are conformable.\n",
    "The $i^\\text{th}$ row of $\\mathbf{A}$ is, in Python notation, `A[i-1,:]`, while the $j^\\text{th}$ column of $\\mathbf{B}$ is `B[:,j-1]`. The dot product of these two vectors is precisely\n",
    "\n",
    "$$\\left(\\mathbf{A}\\mathbf{B}\\right)_{i,j} = \\sum_{k=1}^pa_{ik}b_{kj}.$$\n",
    "\n",
    "The dot product is an example of an 'inner product.' We will study more general inner products later. We will now briefly look at an 'outer product' that ties back in to the definition of matrix multiplication."
   ]
  },
  {
   "cell_type": "markdown",
   "metadata": {
    "editable": true,
    "slideshow": {
     "slide_type": "subslide"
    },
    "tags": []
   },
   "source": [
    "First note that if $\\vec{x}$ is an $m\\times 1$ column vector and $\\vec{y}$ is a $1\\times n$ row vector, then their product is an $m\\times n$ matrix:\n",
    "\n",
    "$$\\left(\\vec{x}\\times\\vec{y}\\right)_{ij} = x_iy_j.$$\n",
    "\n",
    "For generic vectors we can define the outer product\n",
    "\n",
    "$$\\left(\\vec{x}\\otimes\\vec{y}\\right)_{ij} = x_iy_j.$$\n",
    "\n",
    "Now suppose that we have our two conformable matrices $\\mathbf{A}$ and $\\mathbf{B}$. Let the $k^\\text{th}$ column of $\\mathbf{A}$ be denoted $\\vec{a}_k = $ `A[:,k-1]` and let the $j^\\text{th}$ row of $\\mathbf{B}$ be denoted $\\vec{b}_j = $ `B[j-1,:]`.\n",
    "Then the product $\\mathbf{AB}$ can also be written as a sum of outer products\n",
    "\n",
    "$$\\mathbf{AB} = \\vec{a}_1\\otimes\\vec{b}_1 + \\vec{a}_2\\otimes\\vec{b}_2 + \\ldots + \\vec{a}_p\\otimes\\vec{b}_p = \\sum_{k=1}^p\\vec{a}_k\\otimes\\vec{b}_k.$$"
   ]
  },
  {
   "cell_type": "markdown",
   "metadata": {
    "editable": true,
    "slideshow": {
     "slide_type": "subslide"
    },
    "tags": []
   },
   "source": [
    "A particularly useful case of the foregoing is when $\\mathbf{B}$ is just a column vector $\\mathbf{B} = \\vec{x}$. In the notation of the previous slide, the rows of $\\mathbf{B}$ are $\\vec{b}_i$. In this particular case they are the 'rows' of a column vector $\\vec{b}_i = x_i$. So\n",
    "\n",
    "$$\\mathbf{A}\\vec{x} = \\vec{a}_1x_1+\\cdots+\\vec{a}_px_p$$\n",
    "\n",
    "A matrix/vector product thus takes the entries of the vector, multiplies them by the columns of the matrix, and sums them all up."
   ]
  },
  {
   "cell_type": "markdown",
   "metadata": {
    "editable": true,
    "slideshow": {
     "slide_type": "subslide"
    },
    "tags": []
   },
   "source": [
    "One final note about matrix multiplication. Suppose that **A** and **B** are conformable and write **B** in terms of its columns:\n",
    "\n",
    "$$\\mathbf{B} = [\\vec{b}_1\\,\\cdots\\,\\vec{b}_n]$$\n",
    "\n",
    "Then the columns of the matrix product are\n",
    "\n",
    "$$\\mathbf{AB} = [\\mathbf{A}\\vec{b}_1\\,\\cdots\\,\\mathbf{A}\\vec{b}_n]$$"
   ]
  },
  {
   "cell_type": "markdown",
   "metadata": {
    "editable": true,
    "slideshow": {
     "slide_type": "slide"
    },
    "tags": []
   },
   "source": [
    "At this point we have to deal with a convenient feature of Numpy: vectors are not typically set to being either 'row' or 'column' vectors. Instead, they are whichever is needed for a particular operation. For example,"
   ]
  },
  {
   "cell_type": "code",
   "execution_count": 12,
   "metadata": {
    "editable": true,
    "slideshow": {
     "slide_type": "fragment"
    },
    "tags": []
   },
   "outputs": [
    {
     "name": "stdout",
     "output_type": "stream",
     "text": [
      "(3,)\n",
      "[2 6]\n"
     ]
    },
    {
     "data": {
      "text/plain": [
       "(2,)"
      ]
     },
     "execution_count": 12,
     "metadata": {},
     "output_type": "execute_result"
    }
   ],
   "source": [
    "x = np.array([3,2,1]) # create a vector with entries 3,2,1.\n",
    "print(x.shape) # Notice that it's not (3,1) or (1,3)\n",
    "print(np.dot(x,A)) # Here x is treated as a row vector\n",
    "A[0,:].shape # If you pull out the first row, it is treated as a\n",
    "             # generic vector"
   ]
  },
  {
   "cell_type": "code",
   "execution_count": 13,
   "metadata": {
    "editable": true,
    "slideshow": {
     "slide_type": "fragment"
    },
    "tags": []
   },
   "outputs": [
    {
     "ename": "ValueError",
     "evalue": "shapes (3,1) and (3,2) not aligned: 1 (dim 1) != 3 (dim 0)",
     "output_type": "error",
     "traceback": [
      "\u001b[0;31m---------------------------------------------------------------------------\u001b[0m",
      "\u001b[0;31mValueError\u001b[0m                                Traceback (most recent call last)",
      "Cell \u001b[0;32mIn[13], line 2\u001b[0m\n\u001b[1;32m      1\u001b[0m x\u001b[38;5;241m.\u001b[39mshape \u001b[38;5;241m=\u001b[39m (\u001b[38;5;241m3\u001b[39m,\u001b[38;5;241m1\u001b[39m) \u001b[38;5;66;03m# Force it to be a column vector\u001b[39;00m\n\u001b[0;32m----> 2\u001b[0m \u001b[43mnp\u001b[49m\u001b[38;5;241;43m.\u001b[39;49m\u001b[43mdot\u001b[49m\u001b[43m(\u001b[49m\u001b[43mx\u001b[49m\u001b[43m,\u001b[49m\u001b[43mA\u001b[49m\u001b[43m)\u001b[49m\n",
      "\u001b[0;31mValueError\u001b[0m: shapes (3,1) and (3,2) not aligned: 1 (dim 1) != 3 (dim 0)"
     ]
    }
   ],
   "source": [
    "x.shape = (3,1) # Force it to be a column vector\n",
    "np.dot(x,A) # Now the dot product knows that it's a column and won't\n",
    "            # allow the product"
   ]
  },
  {
   "cell_type": "markdown",
   "metadata": {
    "editable": true,
    "slideshow": {
     "slide_type": "slide"
    },
    "tags": []
   },
   "source": [
    "We've seen how to add an multiply matrices, now we define another operation: the transpose. Suppose that you have an $m\\times n$ matrix (or vector) $\\mathbf{A}$. The transpose is defined by\n",
    "\n",
    "$$\\left(\\mathbf{A}^T\\right)_{ij} = \\left(\\mathbf{A}\\right)_{ji}.$$\n",
    "\n",
    "The transpose turns the rows of a matrix into the columns of its transpose. For example\n",
    "\n",
    "$$\\left[\\begin{array}{cc}1&2\\\\3&4\\end{array}\\right]^T = \\left[\\begin{array}{cc}1&3\\\\2&4\\end{array}\\right].$$\n",
    "\n",
    "Taking the transpose commutes with addition:\n",
    "\n",
    "$$\\left(\\mathbf{A} + \\mathbf{B}\\right)^T = \\mathbf{A}^T + \\mathbf{B}^T$$\n",
    "but it does not commute with multiplication. Instead\n",
    "\n",
    "$$ \\left(\\mathbf{AB}\\right)^T = \\mathbf{B}^T\\mathbf{A}^T.$$"
   ]
  },
  {
   "cell_type": "markdown",
   "metadata": {
    "editable": true,
    "slideshow": {
     "slide_type": "subslide"
    },
    "tags": []
   },
   "source": [
    "We can relate the dot product and outer product to the transpose as follows. For column vectors $\\vec{x}$ and $\\vec{y}$\n",
    "\n",
    "$$\\vec{x}\\cdot\\vec{y} = \\vec{x}^T\\vec{y}\\text{ (requires the vectors to be the same length)}$$\n",
    "\n",
    "and\n",
    "\n",
    "$$\\vec{x}\\otimes\\vec{y} = \\vec{x}\\vec{y}^T \\text{ (doesn't require the vectors to be the same length)}.$$"
   ]
  },
  {
   "cell_type": "markdown",
   "metadata": {
    "editable": true,
    "slideshow": {
     "slide_type": "subslide"
    },
    "tags": []
   },
   "source": [
    "A matrix that equals its transpose is called **symmetric**\n",
    "\n",
    "$$\\mathbf{A} = \\mathbf{A}^T.$$\n",
    "\n",
    "A matrix that equals minus the transpose is called **skew-symmetric** or **anti-symmetric**\n",
    "\n",
    "$$\\mathbf{A} = -\\mathbf{A}^T.$$\n",
    "\n",
    "Numpy includes the transpose for matrices as follows `np.transpose(A)`. You can also use `A.T`. Note that the transpose operation has no effect on 1D arrays in Numpy because they are not assumed to be either row or column vectors. If you force an array to have shape (1,n) then taking its transpose will result in an array of shape (n,1)."
   ]
  },
  {
   "cell_type": "markdown",
   "metadata": {
    "editable": true,
    "slideshow": {
     "slide_type": "subslide"
    },
    "tags": []
   },
   "source": [
    "The **identity** matrix is denoted $\\mathbf{I}$. It has entries\n",
    "\n",
    "$$\\left(\\mathbf{I}\\right)_{ij} := \\delta_{ij} = \\left\\{\\begin{array}{ll}1& i=j\\\\0&i\\neq j\\end{array}\\right.$$\n",
    "\n",
    "It is always a square matrix ($n\\times n$). It has the property that $\\mathbf{I}\\vec{x} = \\vec{x}$ and $\\mathbf{IA} = \\mathbf{AI} = \\mathbf{A}$.\n",
    "\n",
    "The symbol $\\delta_{ij}$ is called the Kronecker delta.\n",
    "\n",
    "The identity matrix is an example of a **diagonal** matrix. A diagonal matrix has zeros except on the diagonal, i.e. where row index equals column index."
   ]
  },
  {
   "cell_type": "markdown",
   "metadata": {
    "slideshow": {
     "slide_type": "subslide"
    },
    "tags": []
   },
   "source": [
    "Upper triangular matrices have entries on and above the diagonal:\n",
    "\n",
    "$$\\left[\\begin{array}{cccc}*&&&*\\\\0&\\ddots&&\\\\&&\\ddots&\\\\0&&0&*\\end{array}\\right]$$\n",
    "\n",
    "Lower triangular matrices have entries on and below the diagonal. The transpose of an upper triangular matrix is a lower triangular matrix."
   ]
  },
  {
   "cell_type": "markdown",
   "metadata": {
    "editable": true,
    "slideshow": {
     "slide_type": "slide"
    },
    "tags": []
   },
   "source": [
    "# Vector Spaces\n",
    "\n",
    "Consider the set of all possible real vectors of length $n$. This set is called $\\mathbb{R}^n$, and is an example of a **vector space**. The mathematical definition of a vector space is somewhat technical, and we don't need the details. The important properties of a vector space from our perspective are\n",
    "1. You can add vectors and the result is still a vector in the same set.\n",
    "2. You can multiply vectors by any number and the result is a vector in the same set.\n",
    "\n",
    "If point 2 uses complex numbers then it's a complex vector space. $\\mathbb{C}^n$ is an example of a complex vector space.\n",
    "\n",
    "The elements of a vector space can be functions, e.g. polynomials."
   ]
  },
  {
   "cell_type": "markdown",
   "metadata": {
    "editable": true,
    "slideshow": {
     "slide_type": "subslide"
    },
    "tags": []
   },
   "source": [
    "# Subspaces\n",
    "\n",
    "A **subspace** is a subset of a vector space that is closed under addition and scalar multiplication. For example, consider the space $(x,y,z)\\in\\mathbb{R}^3$. The subset of points of the form $(x,y,0)$ forms a subspace, because if you multiply by a scalar the last element remains zero, and if you add two of these vectors the last element remains zero.\n",
    "\n",
    "Technically $\\mathbb{R}^2$ is not a subspace of $\\mathbb{R}^3$, because elements of $\\mathbb{R}^3$ are vectors of length 3 while elements of $\\mathbb{R}^2$ are vectors of length 2: $\\mathbb{R}^2$ is not a *subset* of $\\mathbb{R}^3$, so it can't be a subspace.\n",
    "\n",
    "As another example, if we consider the vector space of polynomials of degree $\\le 2$, then the set of all polynomials of degree $\\le 1$ is a subspace."
   ]
  },
  {
   "cell_type": "markdown",
   "metadata": {
    "editable": true,
    "slideshow": {
     "slide_type": "subslide"
    },
    "tags": []
   },
   "source": [
    "# Span\n",
    "\n",
    "Consider a set of vectors $\\vec{v}_1,\\ldots,\\vec{v}_k$ in some vector space.\n",
    "A **linear combination** of these vectors is a sum of the form\n",
    "\n",
    "$$x_1\\vec{v}_1+x_2\\vec{v}_2 + \\ldots + x_k\\vec{v}_k$$\n",
    "\n",
    "where $x_1,\\ldots,x_k$ are real or complex numbers.\n",
    "\n",
    "The **span** of these vectors is the set of all possible linear combinations of these vectors.\n",
    "\n",
    "For example, consider $\\vec{v}_1 = (1,0,0)^T$ and $\\vec{v}_2 = (0,1,0)^T$. The span of these vectors is\n",
    "\n",
    "$$\\vec{v} = (x,y,0)^T,\\text{ for any }x\\text{ and }y.$$\n",
    "\n",
    "Clearly this is a subspace, and in general **the span of a set of vectors is a subspace**."
   ]
  },
  {
   "cell_type": "markdown",
   "metadata": {
    "editable": true,
    "slideshow": {
     "slide_type": "subslide"
    },
    "tags": []
   },
   "source": [
    "# Linear Independence\n",
    "\n",
    "A set of vectors $\\vec{v}_1,\\ldots,\\vec{v}_k$ is **linearly independent** when the only linear combination that yields zero has all zero coefficients, i.e.\n",
    "\n",
    "$$x_1\\vec{v}_1+x_2\\vec{v}_2 + \\ldots + x_k\\vec{v}_k = \\vec{0} \\Leftrightarrow x_1=x_2=\\ldots=x_k=0.$$\n",
    "\n",
    "The symbol $\\Leftrightarrow$ means *if and only if*, which is sometimes written 'iff'.\n",
    "\n",
    "A simpler definition that is more intuitive but harder to use in proofs is: A set of vectors is linearly dependent when one of the vectors can be written as a linear combination of the others, i.e.\n",
    "\n",
    "$$\\vec{v}_1 = x_2\\vec{v}_2 + \\ldots + x_k\\vec{v}_k.$$\n",
    "\n",
    "It's not too hard to prove that these definitions are equivalent."
   ]
  },
  {
   "cell_type": "markdown",
   "metadata": {
    "editable": true,
    "slideshow": {
     "slide_type": "subslide"
    },
    "tags": []
   },
   "source": [
    "## Example\n",
    "Consider the set of vectors\n",
    "\\begin{equation}\n",
    "\\vec{v}_1 = \\left(\\begin{array}{c}1\\\\0\\\\1\\end{array}\\right),\\;\\vec{v}_2 = \\left(\\begin{array}{c}0\\\\0\\\\1\\end{array}\\right),\\;\\;\\vec{v}_3 = \\left(\\begin{array}{c}1\\\\1\\\\0\\end{array}\\right).\n",
    "\\end{equation}\n",
    "Are they linearly independent? A linear combination of these vectors has the form\n",
    "\\begin{equation}\n",
    "x_1\\vec{v}_1 + x_2\\vec{v}_2+x_3\\vec{v}_3 = \\left[\\begin{array}{ccc}1&0&1\\\\0&0&1\\\\1&1&0\\end{array}\\right]\\left(\\begin{array}{c}x_1\\\\x_2\\\\x_3\\end{array}\\right) = \\mathbf{A}\\vec{x}.\n",
    "\\end{equation}\n",
    "We will come back to linear systems in Lecture 2."
   ]
  },
  {
   "cell_type": "markdown",
   "metadata": {
    "editable": true,
    "slideshow": {
     "slide_type": "subslide"
    },
    "tags": []
   },
   "source": [
    "# Basis & Dimension\n",
    "\n",
    "If a set of vectors $\\vec{v}_1,\\ldots,\\vec{v}_k$ spans a vector (sub-)space and are linearly independent then\n",
    "1. They are called a **basis** for the vector (sub-)space and\n",
    "2. The vector (sub-)space has dimension $k$.\n",
    "\n",
    "For example, the **standard basis** of $\\mathbb{R}^n$ is the columns of the $n\\times n$ identity matrix. The vectors in the standard basis are usually denoted $\\vec{e}_i$. In $\\mathbb{R}^3$ these vectors are\n",
    "\n",
    "\\begin{equation}\n",
    "\\vec{e}_1 = \\left(\\begin{array}{c}1\\\\0\\\\0\\end{array}\\right),\\;\\vec{e}_2 = \\left(\\begin{array}{c}0\\\\1\\\\0\\end{array}\\right),\\;\\;\\vec{e}_3 = \\left(\\begin{array}{c}0\\\\0\\\\1\\end{array}\\right).\n",
    "\\end{equation}\n",
    "\n",
    "It's easy to check that they are a basis."
   ]
  },
  {
   "cell_type": "markdown",
   "metadata": {
    "editable": true,
    "slideshow": {
     "slide_type": "subslide"
    },
    "tags": []
   },
   "source": [
    "# Coordinates\n",
    "If $\\vec{v}_1,\\ldots,\\vec{v}_k$ are a basis for some vector space, then any vector $\\vec{b}$ in that space can be written as a linear combination of the vectors, and the coefficients in that linear combination are *unique*.\n",
    "\n",
    "Proof: Reductio. Assume that $\\vec{b} = x_1\\vec{v}_1+\\ldots+x_k\\vec{v}_k = y_1\\vec{v}_1+\\ldots+y_k\\vec{v}_k$. Now subtract to get\n",
    "\n",
    "$$(x_1-y_1)\\vec{v}_1+\\ldots+(x_k-y_k)\\vec{v}_k = \\vec{0}.$$\n",
    "\n",
    "Basis implies linear independence implies $x_i=y_i$ (uniqueness).\n",
    "\n",
    "The coefficients in the linear sum are called **coordinates** and choosing a basis for the space is sometimes called choosing a coordinate system."
   ]
  }
 ],
 "metadata": {
  "celltoolbar": "Slideshow",
  "kernelspec": {
   "display_name": "Python 3 (ipykernel)",
   "language": "python",
   "name": "python3"
  },
  "language_info": {
   "codemirror_mode": {
    "name": "ipython",
    "version": 3
   },
   "file_extension": ".py",
   "mimetype": "text/x-python",
   "name": "python",
   "nbconvert_exporter": "python",
   "pygments_lexer": "ipython3",
   "version": "3.8.13"
  }
 },
 "nbformat": 4,
 "nbformat_minor": 4
}
